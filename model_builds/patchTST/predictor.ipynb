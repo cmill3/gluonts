{
 "cells": [
  {
   "cell_type": "code",
   "execution_count": 8,
   "metadata": {},
   "outputs": [],
   "source": [
    "import torch\n",
    "import os\n",
    "import pandas as pd\n",
    "import warnings\n",
    "import time  # Import the time module\n",
    "\n",
    "from gluonts.dataset.pandas import PandasDataset\n",
    "from gluonts.torch.model.patch_tst import PatchTSTLightningModule"
   ]
  },
  {
   "cell_type": "code",
   "execution_count": 2,
   "metadata": {},
   "outputs": [
    {
     "name": "stderr",
     "output_type": "stream",
     "text": [
      "/var/folders/tq/_9q_lv1s2bndbr3tzzn08x4r0000gn/T/ipykernel_17117/1973061198.py:3: UserWarning: Could not infer format, so each element will be parsed individually, falling back to `dateutil`. To ensure parsing is consistent and as-expected, please specify a format.\n",
      "  df = pd.read_csv(file_path, index_col=0, parse_dates=True)\n"
     ]
    },
    {
     "name": "stdout",
     "output_type": "stream",
     "text": [
      "504200\n"
     ]
    },
    {
     "name": "stderr",
     "output_type": "stream",
     "text": [
      "/var/folders/tq/_9q_lv1s2bndbr3tzzn08x4r0000gn/T/ipykernel_17117/1973061198.py:11: SettingWithCopyWarning: \n",
      "A value is trying to be set on a copy of a slice from a DataFrame.\n",
      "Try using .loc[row_indexer,col_indexer] = value instead\n",
      "\n",
      "See the caveats in the documentation: https://pandas.pydata.org/pandas-docs/stable/user_guide/indexing.html#returning-a-view-versus-a-copy\n",
      "  feature_df[feature_columns] = feature_df[feature_columns].astype('float32')\n"
     ]
    }
   ],
   "source": [
    "# Load and preprocess data\n",
    "file_path = \"/Users/charlesmiller/Documents/Code/gluonts/model_builds/datasets/full.csv\"\n",
    "df = pd.read_csv(file_path, index_col=0, parse_dates=True)\n",
    "df['v'] = df.index\n",
    "df.reset_index(inplace=True, drop=True)\n",
    "df = df.loc[df['symbol'].isin(['AAPL','SPY','QQQ','AMD','NVDA'])]\n",
    "print(len(df))\n",
    "df['time_idx'] = df.groupby('symbol').cumcount()\n",
    "feature_columns = ['o','v','c','h','l','vw']\n",
    "feature_df = df[['o','v','c','h','l','vw','time_idx','symbol']]\n",
    "feature_df[feature_columns] = feature_df[feature_columns].astype('float32')"
   ]
  },
  {
   "cell_type": "code",
   "execution_count": 3,
   "metadata": {},
   "outputs": [
    {
     "name": "stdout",
     "output_type": "stream",
     "text": [
      "Train shape: (400000, 8)\n",
      "Train Symbols: ['AAPL' 'AMD' 'NVDA' 'QQQ' 'SPY']\n",
      "Validation shape: (50000, 8)\n",
      "Validation Symbols: ['SPY' 'QQQ' 'AAPL' 'AMD' 'NVDA']\n",
      "Test shape: (54200, 8)\n",
      "Test Symbols: ['SPY' 'QQQ' 'AAPL' 'AMD' 'NVDA']\n"
     ]
    }
   ],
   "source": [
    "# Split data into training, validation, and test sets\n",
    "train_df = feature_df[feature_df['time_idx'] < 80000]\n",
    "validation_df = feature_df.loc[(feature_df['time_idx'] >= 80000) & (feature_df['time_idx'] < 90000)]\n",
    "test_df = feature_df[feature_df['time_idx'] >= 90000]\n",
    "\n",
    "print(f\"Train shape: {train_df.shape}\")\n",
    "print(f\"Train Symbols: {train_df['symbol'].unique()}\")\n",
    "print(f\"Validation shape: {validation_df.shape}\")\n",
    "print(f\"Validation Symbols: {validation_df['symbol'].unique()}\")\n",
    "print(f\"Test shape: {test_df.shape}\")\n",
    "print(f\"Test Symbols: {test_df['symbol'].unique()}\")\n",
    "\n",
    "# Create GluonTS datasets\n",
    "training_data = PandasDataset.from_long_dataframe(\n",
    "    train_df, timestamp=\"time_idx\", target=\"c\", item_id=\"symbol\")\n",
    "validation_data = PandasDataset.from_long_dataframe(\n",
    "    validation_df, timestamp=\"time_idx\", target=\"c\", item_id=\"symbol\")\n",
    "testing_data = PandasDataset.from_long_dataframe(\n",
    "    test_df, timestamp=\"time_idx\", target=\"c\", item_id=\"symbol\")"
   ]
  },
  {
   "cell_type": "code",
   "execution_count": 10,
   "metadata": {},
   "outputs": [],
   "source": [
    "best_model_path = \"/Users/charlesmiller/Documents/Code/gluonts/lightning_logs/version_38/checkpoints/epoch=66-step=34304.ckpt\"\n",
    "model = PatchTSTLightningModule.load_from_checkpoint(best_model_path)\n",
    "# best_estimator = PatchTSTEstimator.load_from_checkpoint(best_model_path)"
   ]
  },
  {
   "cell_type": "code",
   "execution_count": null,
   "metadata": {},
   "outputs": [],
   "source": [
    "features = test_df[feature_columns].values\n",
    "features = torch.tensor(features, dtype=torch.float32)\n",
    "labels = test_df['c'].values\n",
    "labels = torch.tensor(labels, dtype=torch.float32)"
   ]
  },
  {
   "cell_type": "code",
   "execution_count": 16,
   "metadata": {},
   "outputs": [
    {
     "ename": "TypeError",
     "evalue": "forward() missing 1 required positional argument: 'past_observed_values'",
     "output_type": "error",
     "traceback": [
      "\u001b[0;31m---------------------------------------------------------------------------\u001b[0m",
      "\u001b[0;31mTypeError\u001b[0m                                 Traceback (most recent call last)",
      "Cell \u001b[0;32mIn[16], line 3\u001b[0m\n\u001b[1;32m      1\u001b[0m model\u001b[38;5;241m.\u001b[39meval()\n\u001b[1;32m      2\u001b[0m model\u001b[38;5;241m.\u001b[39mto(\u001b[38;5;124m'\u001b[39m\u001b[38;5;124mmps\u001b[39m\u001b[38;5;124m'\u001b[39m)\n\u001b[0;32m----> 3\u001b[0m predictions \u001b[38;5;241m=\u001b[39m \u001b[43mmodel\u001b[49m\u001b[43m(\u001b[49m\u001b[43mtest_df\u001b[49m\u001b[43m)\u001b[49m\n",
      "File \u001b[0;32m~/.local/share/virtualenvs/gluonts-1iNusfKk/lib/python3.9/site-packages/torch/nn/modules/module.py:1532\u001b[0m, in \u001b[0;36mModule._wrapped_call_impl\u001b[0;34m(self, *args, **kwargs)\u001b[0m\n\u001b[1;32m   1530\u001b[0m     \u001b[38;5;28;01mreturn\u001b[39;00m \u001b[38;5;28mself\u001b[39m\u001b[38;5;241m.\u001b[39m_compiled_call_impl(\u001b[38;5;241m*\u001b[39margs, \u001b[38;5;241m*\u001b[39m\u001b[38;5;241m*\u001b[39mkwargs)  \u001b[38;5;66;03m# type: ignore[misc]\u001b[39;00m\n\u001b[1;32m   1531\u001b[0m \u001b[38;5;28;01melse\u001b[39;00m:\n\u001b[0;32m-> 1532\u001b[0m     \u001b[38;5;28;01mreturn\u001b[39;00m \u001b[38;5;28;43mself\u001b[39;49m\u001b[38;5;241;43m.\u001b[39;49m\u001b[43m_call_impl\u001b[49m\u001b[43m(\u001b[49m\u001b[38;5;241;43m*\u001b[39;49m\u001b[43margs\u001b[49m\u001b[43m,\u001b[49m\u001b[43m \u001b[49m\u001b[38;5;241;43m*\u001b[39;49m\u001b[38;5;241;43m*\u001b[39;49m\u001b[43mkwargs\u001b[49m\u001b[43m)\u001b[49m\n",
      "File \u001b[0;32m~/.local/share/virtualenvs/gluonts-1iNusfKk/lib/python3.9/site-packages/torch/nn/modules/module.py:1541\u001b[0m, in \u001b[0;36mModule._call_impl\u001b[0;34m(self, *args, **kwargs)\u001b[0m\n\u001b[1;32m   1536\u001b[0m \u001b[38;5;66;03m# If we don't have any hooks, we want to skip the rest of the logic in\u001b[39;00m\n\u001b[1;32m   1537\u001b[0m \u001b[38;5;66;03m# this function, and just call forward.\u001b[39;00m\n\u001b[1;32m   1538\u001b[0m \u001b[38;5;28;01mif\u001b[39;00m \u001b[38;5;129;01mnot\u001b[39;00m (\u001b[38;5;28mself\u001b[39m\u001b[38;5;241m.\u001b[39m_backward_hooks \u001b[38;5;129;01mor\u001b[39;00m \u001b[38;5;28mself\u001b[39m\u001b[38;5;241m.\u001b[39m_backward_pre_hooks \u001b[38;5;129;01mor\u001b[39;00m \u001b[38;5;28mself\u001b[39m\u001b[38;5;241m.\u001b[39m_forward_hooks \u001b[38;5;129;01mor\u001b[39;00m \u001b[38;5;28mself\u001b[39m\u001b[38;5;241m.\u001b[39m_forward_pre_hooks\n\u001b[1;32m   1539\u001b[0m         \u001b[38;5;129;01mor\u001b[39;00m _global_backward_pre_hooks \u001b[38;5;129;01mor\u001b[39;00m _global_backward_hooks\n\u001b[1;32m   1540\u001b[0m         \u001b[38;5;129;01mor\u001b[39;00m _global_forward_hooks \u001b[38;5;129;01mor\u001b[39;00m _global_forward_pre_hooks):\n\u001b[0;32m-> 1541\u001b[0m     \u001b[38;5;28;01mreturn\u001b[39;00m \u001b[43mforward_call\u001b[49m\u001b[43m(\u001b[49m\u001b[38;5;241;43m*\u001b[39;49m\u001b[43margs\u001b[49m\u001b[43m,\u001b[49m\u001b[43m \u001b[49m\u001b[38;5;241;43m*\u001b[39;49m\u001b[38;5;241;43m*\u001b[39;49m\u001b[43mkwargs\u001b[49m\u001b[43m)\u001b[49m\n\u001b[1;32m   1543\u001b[0m \u001b[38;5;28;01mtry\u001b[39;00m:\n\u001b[1;32m   1544\u001b[0m     result \u001b[38;5;241m=\u001b[39m \u001b[38;5;28;01mNone\u001b[39;00m\n",
      "File \u001b[0;32m~/.local/share/virtualenvs/gluonts-1iNusfKk/lib/python3.9/site-packages/gluonts/torch/model/patch_tst/lightning_module.py:58\u001b[0m, in \u001b[0;36mPatchTSTLightningModule.forward\u001b[0;34m(self, *args, **kwargs)\u001b[0m\n\u001b[1;32m     57\u001b[0m \u001b[38;5;28;01mdef\u001b[39;00m \u001b[38;5;21mforward\u001b[39m(\u001b[38;5;28mself\u001b[39m, \u001b[38;5;241m*\u001b[39margs, \u001b[38;5;241m*\u001b[39m\u001b[38;5;241m*\u001b[39mkwargs):\n\u001b[0;32m---> 58\u001b[0m     \u001b[38;5;28;01mreturn\u001b[39;00m \u001b[38;5;28;43mself\u001b[39;49m\u001b[38;5;241;43m.\u001b[39;49m\u001b[43mmodel\u001b[49m\u001b[38;5;241;43m.\u001b[39;49m\u001b[43mforward\u001b[49m\u001b[43m(\u001b[49m\u001b[38;5;241;43m*\u001b[39;49m\u001b[43margs\u001b[49m\u001b[43m,\u001b[49m\u001b[43m \u001b[49m\u001b[38;5;241;43m*\u001b[39;49m\u001b[38;5;241;43m*\u001b[39;49m\u001b[43mkwargs\u001b[49m\u001b[43m)\u001b[49m\n",
      "\u001b[0;31mTypeError\u001b[0m: forward() missing 1 required positional argument: 'past_observed_values'"
     ]
    }
   ],
   "source": [
    "model.eval()\n",
    "model.to('mps')\n",
    "predictions = model(features, labels)"
   ]
  }
 ],
 "metadata": {
  "kernelspec": {
   "display_name": "gluonts-1iNusfKk",
   "language": "python",
   "name": "python3"
  },
  "language_info": {
   "codemirror_mode": {
    "name": "ipython",
    "version": 3
   },
   "file_extension": ".py",
   "mimetype": "text/x-python",
   "name": "python",
   "nbconvert_exporter": "python",
   "pygments_lexer": "ipython3",
   "version": "3.9.18"
  }
 },
 "nbformat": 4,
 "nbformat_minor": 2
}
